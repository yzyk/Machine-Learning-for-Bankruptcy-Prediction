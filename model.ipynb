{
 "cells": [
  {
   "cell_type": "code",
   "execution_count": 1,
   "id": "01f0edbb",
   "metadata": {},
   "outputs": [],
   "source": [
    "from sklearn.metrics import make_scorer, confusion_matrix, accuracy_score, precision_score, recall_score\n",
    "\n",
    "def bkrclf_accuracy_score(y_true, y_pred, *, sample_weight=None):\n",
    "    C = confusion_matrix(y_true, y_pred, sample_weight=sample_weight)\n",
    "    with np.errstate(divide=\"ignore\", invalid=\"ignore\"):\n",
    "        per_class = np.diag(C) / C.sum(axis=1)\n",
    "\n",
    "    score = np.array([1/6, 5/6]) @ per_class\n",
    "    return score\n",
    "bkrclf_accuracy = make_scorer(bkrclf_accuracy_score) "
   ]
  },
  {
   "cell_type": "code",
   "execution_count": 2,
   "id": "ff3b30da",
   "metadata": {},
   "outputs": [],
   "source": [
    "import pandas as pd\n",
    "import numpy as np\n",
    "import os\n",
    "from imblearn.ensemble import EasyEnsembleClassifier\n",
    "from sklearn.impute import SimpleImputer\n",
    "from sklearn.preprocessing import StandardScaler, Normalizer\n",
    "from sklearn.decomposition import PCA\n",
    "from sklearn.pipeline import Pipeline\n",
    "from sklearn.model_selection import train_test_split\n",
    "\n",
    "def MyModel(X):\n",
    "    name_ = 'Easy Ensemble APP'\n",
    "    # my class for outlier clipping\n",
    "    class OutlierClipper1():\n",
    "        def __init__(self):\n",
    "            self.ther = []\n",
    "        def fit(self, X, y=None):\n",
    "            X_df = pd.DataFrame(X)\n",
    "            for i in X_df.columns:\n",
    "                self.ther.append((X_df[i].quantile(0.10), X_df[i].quantile(0.90)))\n",
    "            return self\n",
    "        def transform(self, X):\n",
    "            X_df = pd.DataFrame(X)\n",
    "            for i in X_df.columns:\n",
    "                low, high = self.ther[i]\n",
    "                X_df[i] = np.where(X_df[i] > high, high, X_df[i])\n",
    "                X_df[i] = np.where(X_df[i] < low, low, X_df[i])\n",
    "            return X_df.values\n",
    "        \n",
    "    # It should create an array of predictions; we initialize it to the empty array for convenience\n",
    "    predictions = []\n",
    "    \n",
    "    # convert numeric and drop features\n",
    "    X = X.drop('Id', axis=1)\n",
    "    for f in X.columns:\n",
    "        if X[f].dtype == 'O':\n",
    "            X[f] = pd.to_numeric(X[f], errors='coerce')\n",
    "    \n",
    "    # build the pipeline\n",
    "    transformers_= Pipeline(steps=[('imputer', SimpleImputer(missing_values=np.nan, strategy='median')),\n",
    "                              ('clipper', OutlierClipper1()),     \n",
    "                              ('scaler', StandardScaler()),\n",
    "                               ('normer', Normalizer())\n",
    "                                ] )\n",
    "    \n",
    "    clf_ = EasyEnsembleClassifier(n_estimators=5, random_state=0)\n",
    "    model_ = Pipeline(steps=[\n",
    "                    ('transformers', transformers_),\n",
    "                    ('clf_final', clf_)\n",
    "                ])\n",
    "    \n",
    "    # train the model\n",
    "    DATA_DIR_ = \"./Data\"\n",
    "\n",
    "    if not os.path.isdir(DATA_DIR_):\n",
    "        DATA_DIR_ = \"../resource/asnlib/publicdata/bankruptcy/data\"\n",
    "\n",
    "\n",
    "    data_file_ = \"5th_yr.csv\"\n",
    "    data_ = pd.read_csv( os.path.join(DATA_DIR_, \"train\", data_file_) )\n",
    "    data_ = data_.drop('Id', axis=1)\n",
    "    for f in data_.columns:\n",
    "        if data_[f].dtype == 'O':\n",
    "            data_[f] = pd.to_numeric(data_[f], errors='coerce')\n",
    "            \n",
    "    X_ = data_.iloc[:, :64]\n",
    "    y_ = data_['Bankrupt']\n",
    "    \n",
    "    X_train_, X_test_, y_train_, y_test_ = train_test_split(X_.values, y_.values, test_size=0.1, random_state=42)\n",
    "    \n",
    "    model_.fit(X_train_, y_train_)\n",
    "    \n",
    "    y_test_pred_ = model_.predict(X_test_)\n",
    "    \n",
    "    accuracy_test_ = accuracy_score(y_test_, y_test_pred_)\n",
    "    recall_test_ = recall_score(y_test_, y_test_pred_, pos_label=1, average=\"binary\")\n",
    "    precision_test_ = precision_score(y_test_,   y_test_pred_, pos_label=1, average=\"binary\")\n",
    "    bkrclf_test_ = bkrclf_accuracy_score(y_test_, y_test_pred_)\n",
    "\n",
    "\n",
    "    print(\"\\t{m:s} In Sample Test Accuracy: {a:3.1%}, Recall {r:3.1%}, Precision {p:3.1%}, Bkrclf Score {b:3.1%}\".format(m=name_,\n",
    "                                                                            a=accuracy_test_,\n",
    "                                                                            r=recall_test_,\n",
    "                                                                            p=precision_test_,\n",
    "                                                                            b=bkrclf_test_\n",
    "                                                                            ))\n",
    "\n",
    "    \n",
    "    # make predictions\n",
    "    predictions = model_.predict(X.values)\n",
    "    \n",
    "    \n",
    "    \n",
    "    return predictions\n"
   ]
  },
  {
   "cell_type": "code",
   "execution_count": 3,
   "id": "84da0a6f",
   "metadata": {},
   "outputs": [
    {
     "name": "stdout",
     "output_type": "stream",
     "text": [
      "\tEasy Ensemble APP In Sample Test Accuracy: 77.8%, Recall 75.8%, Precision 20.2%, Bkrclf Score 76.1%\n"
     ]
    },
    {
     "data": {
      "text/plain": [
       "(1092,)"
      ]
     },
     "execution_count": 3,
     "metadata": {},
     "output_type": "execute_result"
    }
   ],
   "source": [
    "DATA_DIR = \"./Data\"\n",
    "X_hold = pd.read_csv( os.path.join(DATA_DIR, \"holdout\", '5th_yr.csv') )\n",
    "\n",
    "# Predict using MyModel\n",
    "y_hold_pred = MyModel(X_hold)\n",
    "y_hold_pred.shape\n"
   ]
  }
 ],
 "metadata": {
  "kernelspec": {
   "display_name": "Python 3",
   "language": "python",
   "name": "python3"
  },
  "language_info": {
   "codemirror_mode": {
    "name": "ipython",
    "version": 3
   },
   "file_extension": ".py",
   "mimetype": "text/x-python",
   "name": "python",
   "nbconvert_exporter": "python",
   "pygments_lexer": "ipython3",
   "version": "3.8.8"
  }
 },
 "nbformat": 4,
 "nbformat_minor": 5
}
